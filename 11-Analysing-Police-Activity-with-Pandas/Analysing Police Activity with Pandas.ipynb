{
 "cells": [
  {
   "cell_type": "markdown",
   "metadata": {},
   "source": [
    "# Stanford Open Policing Dataset"
   ]
  },
  {
   "cell_type": "markdown",
   "metadata": {},
   "source": [
    "In this project we will be analysing Police Activity in the state of Rhode Island.\n",
    "\n",
    "Our data source is the Stanford Open Policing project, collecting data from 31 states in the US.  For size purposes, we will be focussing on a reduced data set with selected data fields; in particular relating to traffic stops in Rhode Island (State) only.\n",
    "\n",
    "https://openpolicing.stanford.edu\n",
    "\n",
    "Concretely, the data we will be analysing has been saved here:\n",
    "https://github.com/JasonKwo/DataCamp-Data-Scientist-with-Python/blob/master/11-Analysing-Police-Activity-with-Pandas/police.csv\n",
    "\n"
   ]
  },
  {
   "cell_type": "markdown",
   "metadata": {},
   "source": [
    "### Examining the dataset\n",
    "\n",
    "Before beginning our analysis, it's important to familiarize ourselves with the dataset. Here, we'll examine the first few rows, and then count the number of missing values.  To start, I like to run .info() to get an overview of my data."
   ]
  },
  {
   "cell_type": "code",
   "execution_count": 1,
   "metadata": {
    "scrolled": false
   },
   "outputs": [
    {
     "name": "stdout",
     "output_type": "stream",
     "text": [
      "<class 'pandas.core.frame.DataFrame'>\n",
      "RangeIndex: 62045 entries, 0 to 62044\n",
      "Data columns (total 15 columns):\n",
      "state                 62045 non-null object\n",
      "stop_date             62045 non-null object\n",
      "stop_time             62045 non-null object\n",
      "county_name           0 non-null float64\n",
      "driver_gender         58275 non-null object\n",
      "driver_race           58277 non-null object\n",
      "violation_raw         58277 non-null object\n",
      "violation             58277 non-null object\n",
      "search_conducted      62044 non-null object\n",
      "search_type           2461 non-null object\n",
      "stop_outcome          58277 non-null object\n",
      "is_arrested           58277 non-null object\n",
      "stop_duration         58277 non-null object\n",
      "drugs_related_stop    62044 non-null object\n",
      "district              62044 non-null object\n",
      "dtypes: float64(1), object(14)\n",
      "memory usage: 7.1+ MB\n",
      "None\n",
      "  state   stop_date stop_time  county_name driver_gender driver_race  \\\n",
      "0    RI  2005-01-04     12:55          NaN             M       White   \n",
      "1    RI  2005-01-23     23:15          NaN             M       White   \n",
      "2    RI  2005-02-17     04:15          NaN             M       White   \n",
      "3    RI  2005-02-20     17:15          NaN             M       White   \n",
      "4    RI  2005-02-24     01:20          NaN             F       White   \n",
      "\n",
      "                    violation_raw  violation search_conducted search_type  \\\n",
      "0  Equipment/Inspection Violation  Equipment            False         NaN   \n",
      "1                        Speeding   Speeding            False         NaN   \n",
      "2                        Speeding   Speeding            False         NaN   \n",
      "3                Call for Service      Other            False         NaN   \n",
      "4                        Speeding   Speeding            False         NaN   \n",
      "\n",
      "    stop_outcome is_arrested stop_duration drugs_related_stop district  \n",
      "0       Citation       False      0-15 Min              False  Zone X4  \n",
      "1       Citation       False      0-15 Min              False  Zone K3  \n",
      "2       Citation       False      0-15 Min              False  Zone X4  \n",
      "3  Arrest Driver        True     16-30 Min              False  Zone X1  \n",
      "4       Citation       False      0-15 Min              False  Zone X3  \n",
      "state                     0\n",
      "stop_date                 0\n",
      "stop_time                 0\n",
      "county_name           62045\n",
      "driver_gender          3770\n",
      "driver_race            3768\n",
      "violation_raw          3768\n",
      "violation              3768\n",
      "search_conducted          1\n",
      "search_type           59584\n",
      "stop_outcome           3768\n",
      "is_arrested            3768\n",
      "stop_duration          3768\n",
      "drugs_related_stop        1\n",
      "district                  1\n",
      "dtype: int64\n"
     ]
    }
   ],
   "source": [
    "# Read 'police.csv' into a DataFrame named ri\n",
    "import pandas as pd\n",
    "\n",
    "file_name = 'https://raw.githubusercontent.com/JasonKwo/DataCamp-Data-Scientist-with-Python/master/11-Analysing-Police-Activity-with-Pandas/police.csv'\n",
    "ri = pd.read_csv(file_name) # ri = pd.read_csv('police.csv')\n",
    "\n",
    "# Examine the DataFrame\n",
    "print(ri.info())\n",
    "\n",
    "# Examine the head of the DataFrame\n",
    "print(ri.head())\n",
    "\n",
    "# Count the number of missing values in each column\n",
    "print(ri.isnull().sum())    # .isnull() returns a dataframe of True and False values for missing data"
   ]
  },
  {
   "cell_type": "markdown",
   "metadata": {},
   "source": [
    "### Dropping Columns\n",
    "\n",
    "Often, a DataFrame will contain columns that are not useful to our analysis. Such columns should be dropped from the DataFrame, to make it easier for us to focus on the remaining columns.\n",
    "\n",
    "Here, we will drop the county_name column because it only contains missing values, and we'll drop the state column because all of the traffic stops took place in one state (Rhode Island). Thus, these columns can be dropped because they contain no useful information."
   ]
  },
  {
   "cell_type": "code",
   "execution_count": 2,
   "metadata": {},
   "outputs": [
    {
     "name": "stdout",
     "output_type": "stream",
     "text": [
      "(62045, 15)\n",
      "(62045, 13)\n"
     ]
    }
   ],
   "source": [
    "# Examine the shape of the DataFrame\n",
    "print(ri.shape)\n",
    "\n",
    "# Drop the 'county_name' and 'state' columns\n",
    "ri.drop(['county_name', 'state'], axis='columns', inplace=True)\n",
    "\n",
    "# Examine the shape of the DataFrame (again)\n",
    "print(ri.shape) # We now have two fewer columns"
   ]
  },
  {
   "cell_type": "markdown",
   "metadata": {},
   "source": [
    "### Dropping rows\n",
    "\n",
    "When you know that a specific column will be critical to your analysis, and only a small fraction of rows are missing a value in that column, it often makes sense to remove those rows from the dataset.\n",
    "\n",
    "During this project, the driver_gender column will be critical to many of our analyses. Because only a small fraction of rows are missing driver_gender, we'll drop those rows from the dataset."
   ]
  },
  {
   "cell_type": "code",
   "execution_count": 3,
   "metadata": {},
   "outputs": [
    {
     "name": "stdout",
     "output_type": "stream",
     "text": [
      "stop_date                 0\n",
      "stop_time                 0\n",
      "driver_gender          3770\n",
      "driver_race            3768\n",
      "violation_raw          3768\n",
      "violation              3768\n",
      "search_conducted          1\n",
      "search_type           59584\n",
      "stop_outcome           3768\n",
      "is_arrested            3768\n",
      "stop_duration          3768\n",
      "drugs_related_stop        1\n",
      "district                  1\n",
      "dtype: int64\n",
      "stop_date                 0\n",
      "stop_time                 0\n",
      "driver_gender             0\n",
      "driver_race               0\n",
      "violation_raw             0\n",
      "violation                 0\n",
      "search_conducted          0\n",
      "search_type           55814\n",
      "stop_outcome              0\n",
      "is_arrested               0\n",
      "stop_duration             0\n",
      "drugs_related_stop        0\n",
      "district                  0\n",
      "dtype: int64\n",
      "(58275, 13)\n"
     ]
    }
   ],
   "source": [
    "# Count the number of missing values in each column\n",
    "print(ri.isnull().sum())\n",
    "\n",
    "# Drop all rows that are missing 'driver_gender'\n",
    "ri.dropna(subset=['driver_gender'], inplace=True)\n",
    "\n",
    "# Count the number of missing values in each column (again)\n",
    "print(ri.isnull().sum())\n",
    "\n",
    "# Examine the shape of the DataFrame\n",
    "print(ri.shape)"
   ]
  },
  {
   "cell_type": "code",
   "execution_count": null,
   "metadata": {},
   "outputs": [],
   "source": []
  }
 ],
 "metadata": {
  "kernelspec": {
   "display_name": "Python 3",
   "language": "python",
   "name": "python3"
  },
  "language_info": {
   "codemirror_mode": {
    "name": "ipython",
    "version": 3
   },
   "file_extension": ".py",
   "mimetype": "text/x-python",
   "name": "python",
   "nbconvert_exporter": "python",
   "pygments_lexer": "ipython3",
   "version": "3.7.3"
  }
 },
 "nbformat": 4,
 "nbformat_minor": 2
}
